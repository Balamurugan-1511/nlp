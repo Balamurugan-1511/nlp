{
  "nbformat": 4,
  "nbformat_minor": 0,
  "metadata": {
    "colab": {
      "provenance": [],
      "gpuType": "T4"
    },
    "kernelspec": {
      "name": "python3",
      "display_name": "Python 3"
    },
    "language_info": {
      "name": "python"
    },
    "accelerator": "GPU"
  },
  "cells": [
    {
      "cell_type": "code",
      "execution_count": 1,
      "metadata": {
        "colab": {
          "base_uri": "https://localhost:8080/"
        },
        "id": "6UKAh5tOaMnA",
        "outputId": "371f5729-6209-4ccb-8230-c96ca1b14998"
      },
      "outputs": [
        {
          "output_type": "stream",
          "name": "stdout",
          "text": [
            "Requirement already satisfied: spacy in /usr/local/lib/python3.11/dist-packages (3.8.7)\n",
            "Requirement already satisfied: tqdm in /usr/local/lib/python3.11/dist-packages (4.67.1)\n",
            "Requirement already satisfied: spacy-legacy<3.1.0,>=3.0.11 in /usr/local/lib/python3.11/dist-packages (from spacy) (3.0.12)\n",
            "Requirement already satisfied: spacy-loggers<2.0.0,>=1.0.0 in /usr/local/lib/python3.11/dist-packages (from spacy) (1.0.5)\n",
            "Requirement already satisfied: murmurhash<1.1.0,>=0.28.0 in /usr/local/lib/python3.11/dist-packages (from spacy) (1.0.13)\n",
            "Requirement already satisfied: cymem<2.1.0,>=2.0.2 in /usr/local/lib/python3.11/dist-packages (from spacy) (2.0.11)\n",
            "Requirement already satisfied: preshed<3.1.0,>=3.0.2 in /usr/local/lib/python3.11/dist-packages (from spacy) (3.0.10)\n",
            "Requirement already satisfied: thinc<8.4.0,>=8.3.4 in /usr/local/lib/python3.11/dist-packages (from spacy) (8.3.6)\n",
            "Requirement already satisfied: wasabi<1.2.0,>=0.9.1 in /usr/local/lib/python3.11/dist-packages (from spacy) (1.1.3)\n",
            "Requirement already satisfied: srsly<3.0.0,>=2.4.3 in /usr/local/lib/python3.11/dist-packages (from spacy) (2.5.1)\n",
            "Requirement already satisfied: catalogue<2.1.0,>=2.0.6 in /usr/local/lib/python3.11/dist-packages (from spacy) (2.0.10)\n",
            "Requirement already satisfied: weasel<0.5.0,>=0.1.0 in /usr/local/lib/python3.11/dist-packages (from spacy) (0.4.1)\n",
            "Requirement already satisfied: typer<1.0.0,>=0.3.0 in /usr/local/lib/python3.11/dist-packages (from spacy) (0.16.0)\n",
            "Requirement already satisfied: numpy>=1.19.0 in /usr/local/lib/python3.11/dist-packages (from spacy) (2.0.2)\n",
            "Requirement already satisfied: requests<3.0.0,>=2.13.0 in /usr/local/lib/python3.11/dist-packages (from spacy) (2.32.3)\n",
            "Requirement already satisfied: pydantic!=1.8,!=1.8.1,<3.0.0,>=1.7.4 in /usr/local/lib/python3.11/dist-packages (from spacy) (2.11.7)\n",
            "Requirement already satisfied: jinja2 in /usr/local/lib/python3.11/dist-packages (from spacy) (3.1.6)\n",
            "Requirement already satisfied: setuptools in /usr/local/lib/python3.11/dist-packages (from spacy) (75.2.0)\n",
            "Requirement already satisfied: packaging>=20.0 in /usr/local/lib/python3.11/dist-packages (from spacy) (25.0)\n",
            "Requirement already satisfied: langcodes<4.0.0,>=3.2.0 in /usr/local/lib/python3.11/dist-packages (from spacy) (3.5.0)\n",
            "Requirement already satisfied: language-data>=1.2 in /usr/local/lib/python3.11/dist-packages (from langcodes<4.0.0,>=3.2.0->spacy) (1.3.0)\n",
            "Requirement already satisfied: annotated-types>=0.6.0 in /usr/local/lib/python3.11/dist-packages (from pydantic!=1.8,!=1.8.1,<3.0.0,>=1.7.4->spacy) (0.7.0)\n",
            "Requirement already satisfied: pydantic-core==2.33.2 in /usr/local/lib/python3.11/dist-packages (from pydantic!=1.8,!=1.8.1,<3.0.0,>=1.7.4->spacy) (2.33.2)\n",
            "Requirement already satisfied: typing-extensions>=4.12.2 in /usr/local/lib/python3.11/dist-packages (from pydantic!=1.8,!=1.8.1,<3.0.0,>=1.7.4->spacy) (4.14.1)\n",
            "Requirement already satisfied: typing-inspection>=0.4.0 in /usr/local/lib/python3.11/dist-packages (from pydantic!=1.8,!=1.8.1,<3.0.0,>=1.7.4->spacy) (0.4.1)\n",
            "Requirement already satisfied: charset-normalizer<4,>=2 in /usr/local/lib/python3.11/dist-packages (from requests<3.0.0,>=2.13.0->spacy) (3.4.2)\n",
            "Requirement already satisfied: idna<4,>=2.5 in /usr/local/lib/python3.11/dist-packages (from requests<3.0.0,>=2.13.0->spacy) (3.10)\n",
            "Requirement already satisfied: urllib3<3,>=1.21.1 in /usr/local/lib/python3.11/dist-packages (from requests<3.0.0,>=2.13.0->spacy) (2.5.0)\n",
            "Requirement already satisfied: certifi>=2017.4.17 in /usr/local/lib/python3.11/dist-packages (from requests<3.0.0,>=2.13.0->spacy) (2025.7.14)\n",
            "Requirement already satisfied: blis<1.4.0,>=1.3.0 in /usr/local/lib/python3.11/dist-packages (from thinc<8.4.0,>=8.3.4->spacy) (1.3.0)\n",
            "Requirement already satisfied: confection<1.0.0,>=0.0.1 in /usr/local/lib/python3.11/dist-packages (from thinc<8.4.0,>=8.3.4->spacy) (0.1.5)\n",
            "Requirement already satisfied: click>=8.0.0 in /usr/local/lib/python3.11/dist-packages (from typer<1.0.0,>=0.3.0->spacy) (8.2.1)\n",
            "Requirement already satisfied: shellingham>=1.3.0 in /usr/local/lib/python3.11/dist-packages (from typer<1.0.0,>=0.3.0->spacy) (1.5.4)\n",
            "Requirement already satisfied: rich>=10.11.0 in /usr/local/lib/python3.11/dist-packages (from typer<1.0.0,>=0.3.0->spacy) (13.9.4)\n",
            "Requirement already satisfied: cloudpathlib<1.0.0,>=0.7.0 in /usr/local/lib/python3.11/dist-packages (from weasel<0.5.0,>=0.1.0->spacy) (0.21.1)\n",
            "Requirement already satisfied: smart-open<8.0.0,>=5.2.1 in /usr/local/lib/python3.11/dist-packages (from weasel<0.5.0,>=0.1.0->spacy) (7.3.0.post1)\n",
            "Requirement already satisfied: MarkupSafe>=2.0 in /usr/local/lib/python3.11/dist-packages (from jinja2->spacy) (3.0.2)\n",
            "Requirement already satisfied: marisa-trie>=1.1.0 in /usr/local/lib/python3.11/dist-packages (from language-data>=1.2->langcodes<4.0.0,>=3.2.0->spacy) (1.2.1)\n",
            "Requirement already satisfied: markdown-it-py>=2.2.0 in /usr/local/lib/python3.11/dist-packages (from rich>=10.11.0->typer<1.0.0,>=0.3.0->spacy) (3.0.0)\n",
            "Requirement already satisfied: pygments<3.0.0,>=2.13.0 in /usr/local/lib/python3.11/dist-packages (from rich>=10.11.0->typer<1.0.0,>=0.3.0->spacy) (2.19.2)\n",
            "Requirement already satisfied: wrapt in /usr/local/lib/python3.11/dist-packages (from smart-open<8.0.0,>=5.2.1->weasel<0.5.0,>=0.1.0->spacy) (1.17.2)\n",
            "Requirement already satisfied: mdurl~=0.1 in /usr/local/lib/python3.11/dist-packages (from markdown-it-py>=2.2.0->rich>=10.11.0->typer<1.0.0,>=0.3.0->spacy) (0.1.2)\n"
          ]
        }
      ],
      "source": [
        "\n",
        "!pip install spacy tqdm"
      ]
    },
    {
      "cell_type": "code",
      "source": [
        "import json\n",
        "\n",
        "# Load file\n",
        "with open('/content/Entity Recognition in Resumes (1).json', 'r', encoding='utf-8') as f:\n",
        "    data = [json.loads(line) for line in f if line.strip()]\n",
        "\n",
        "print(f\"Loaded {len(data)} resumes\")"
      ],
      "metadata": {
        "colab": {
          "base_uri": "https://localhost:8080/"
        },
        "id": "hhT6LH-Wav85",
        "outputId": "d159a216-55db-4bc1-dd55-0560fc9922a2"
      },
      "execution_count": 2,
      "outputs": [
        {
          "output_type": "stream",
          "name": "stdout",
          "text": [
            "Loaded 220 resumes\n"
          ]
        }
      ]
    },
    {
      "cell_type": "code",
      "source": [
        "def convert_to_spacy_format(data):\n",
        "    spacy_data = []\n",
        "\n",
        "    for record in data:\n",
        "        text = record[\"content\"]\n",
        "        entity_set = set()\n",
        "        entities = []\n",
        "\n",
        "        for ann in record[\"annotation\"]:\n",
        "            if not ann[\"label\"]:\n",
        "                continue\n",
        "            label = ann[\"label\"][0]\n",
        "            for point in ann[\"points\"]:\n",
        "                entity_text = point[\"text\"]\n",
        "                start = point[\"start\"]\n",
        "                end = point[\"end\"]\n",
        "\n",
        "                # Exact match\n",
        "                if text[start:end] == entity_text:\n",
        "                    ent_tuple = (start, end, label)\n",
        "                else:\n",
        "                    # Fallback to find()\n",
        "                    corrected_start = text.find(entity_text)\n",
        "                    if corrected_start != -1:\n",
        "                        corrected_end = corrected_start + len(entity_text)\n",
        "                        ent_tuple = (corrected_start, corrected_end, label)\n",
        "                    else:\n",
        "                        continue  # skip if still can't align\n",
        "\n",
        "                if ent_tuple not in entity_set:\n",
        "                    entity_set.add(ent_tuple)\n",
        "\n",
        "        # 🧹 Remove overlapping spans\n",
        "        sorted_entities = sorted(list(entity_set), key=lambda x: x[0])\n",
        "        non_overlapping = []\n",
        "        last_end = -1\n",
        "        for start, end, label in sorted_entities:\n",
        "            if start >= last_end:\n",
        "                non_overlapping.append((start, end, label))\n",
        "                last_end = end\n",
        "\n",
        "        spacy_data.append((text, {\"entities\": non_overlapping}))\n",
        "\n",
        "    return spacy_data\n",
        "\n",
        "training_data = convert_to_spacy_format(data)\n",
        "print(f\"Final training samples: {len(training_data)}\")\n"
      ],
      "metadata": {
        "colab": {
          "base_uri": "https://localhost:8080/"
        },
        "id": "ms0UzHsoa12i",
        "outputId": "5bc5c156-53b3-462b-8fc6-c38c58499491"
      },
      "execution_count": 3,
      "outputs": [
        {
          "output_type": "stream",
          "name": "stdout",
          "text": [
            "Final training samples: 220\n"
          ]
        }
      ]
    },
    {
      "cell_type": "code",
      "source": [
        "\n",
        "training_data = convert_to_spacy_format(data)"
      ],
      "metadata": {
        "id": "kuR16xO6a9P1"
      },
      "execution_count": 4,
      "outputs": []
    },
    {
      "cell_type": "code",
      "source": [
        "import spacy\n",
        "from spacy.training.example import Example\n",
        "from spacy.util import minibatch, compounding\n",
        "import random\n",
        "\n",
        "# Create a blank English NLP pipeline\n",
        "nlp = spacy.blank(\"en\")\n",
        "\n",
        "# Add the NER pipeline component\n",
        "if \"ner\" not in nlp.pipe_names:\n",
        "    ner = nlp.add_pipe(\"ner\")\n",
        "else:\n",
        "    ner = nlp.get_pipe(\"ner\")\n",
        "\n",
        "# Add all unique labels to the NER model\n",
        "for _, annotations in training_data:\n",
        "    for ent in annotations[\"entities\"]:\n",
        "        ner.add_label(ent[2])\n",
        "\n",
        "import warnings\n",
        "from spacy.training import Example\n",
        "from spacy.util import minibatch, compounding\n",
        "\n",
        "# Optional: suppress warning flood\n",
        "warnings.filterwarnings(\"ignore\", category=UserWarning, module=\"spacy\")\n",
        "\n",
        "# Disable other pipeline components for training\n",
        "other_pipes = [pipe for pipe in nlp.pipe_names if pipe != \"ner\"]\n",
        "with nlp.disable_pipes(*other_pipes):\n",
        "    optimizer = nlp.begin_training()\n",
        "\n",
        "    for i in range(20):  # Number of epochs\n",
        "        random.shuffle(training_data)\n",
        "        losses = {}\n",
        "        batches = minibatch(training_data, size=compounding(4.0, 32.0, 1.001))\n",
        "        skipped = 0  # Count how many were skipped\n",
        "\n",
        "        for batch in batches:\n",
        "            for text, annotations in batch:\n",
        "                doc = nlp.make_doc(text)\n",
        "                try:\n",
        "                    example = Example.from_dict(doc, annotations)\n",
        "                    nlp.update([example], drop=0.3, losses=losses)\n",
        "                except Exception:\n",
        "                    skipped += 1\n",
        "                    continue"
      ],
      "metadata": {
        "id": "bMuN___ZbAH9"
      },
      "execution_count": 5,
      "outputs": []
    },
    {
      "cell_type": "code",
      "source": [
        "output_dir = \"/content/ner_resume_model\"\n",
        "\n",
        "# Save model to disk\n",
        "nlp.to_disk(output_dir)\n",
        "print(f\"Model saved to: {output_dir}\")"
      ],
      "metadata": {
        "id": "GMpQCMXlbGBQ",
        "colab": {
          "base_uri": "https://localhost:8080/"
        },
        "outputId": "57fe19f5-6765-49c3-9b69-40ce619a57dd"
      },
      "execution_count": 6,
      "outputs": [
        {
          "output_type": "stream",
          "name": "stdout",
          "text": [
            "Model saved to: /content/ner_resume_model\n"
          ]
        }
      ]
    },
    {
      "cell_type": "code",
      "source": [
        "import spacy\n",
        "\n",
        "# Load your saved model\n",
        "model_path = \"/content/ner_resume_model\"\n",
        "nlp = spacy.load(model_path)\n",
        "print(\" Model loaded successfully.\")"
      ],
      "metadata": {
        "colab": {
          "base_uri": "https://localhost:8080/"
        },
        "id": "LuKg3KbKgPKx",
        "outputId": "7017c4f6-050c-4c49-e3d6-815dad56d98d"
      },
      "execution_count": 7,
      "outputs": [
        {
          "output_type": "stream",
          "name": "stdout",
          "text": [
            " Model loaded successfully.\n"
          ]
        }
      ]
    },
    {
      "cell_type": "code",
      "source": [
        "import spacy\n",
        "import pdfplumber\n",
        "import re\n",
        "from collections import defaultdict\n",
        "import json\n",
        "\n",
        "# Load your trained spaCy NER model\n",
        "model_path = \"/content/ner_resume_model\"\n",
        "nlp = spacy.load(model_path)\n",
        "print(\"✅ Model loaded successfully.\")\n",
        "\n",
        "# Load and read text from PDF\n",
        "pdf_path = \"/content/negan.pdf\"  # Replace with your file path\n",
        "text = \"\"\n",
        "with pdfplumber.open(pdf_path) as pdf:\n",
        "    for page in pdf.pages:\n",
        "        text += page.extract_text() + \"\\n\"\n",
        "\n",
        "# Use your NER model\n",
        "doc = nlp(text)\n",
        "\n",
        "# Extract entities from model\n",
        "entities = defaultdict(list)\n",
        "for ent in doc.ents:\n",
        "    entities[ent.label_].append(ent.text.strip())\n",
        "\n",
        "print(\"\\n📄 Extracted Entities from PDF:\")\n",
        "for label, values in entities.items():\n",
        "    for val in values:\n",
        "        print(f\"{val} ➤ {label}\")\n",
        "\n",
        "# Regex Post-processing\n",
        "email_match = re.search(r'[\\w\\.-]+@[\\w\\.-]+', text)\n",
        "phone_match = re.search(r'\\+91[-\\s]?[0-9]{10}', text)\n",
        "linkedin_match = re.search(r'linkedin\\.com\\/[^\\s]+', text)\n",
        "\n",
        "print(\"\\n🔧 Regex Post-processing:\")\n",
        "if email_match:\n",
        "    print(f\"Email ➤ {email_match.group()}\")\n",
        "if phone_match:\n",
        "    print(f\"Phone ➤ {phone_match.group()}\")\n",
        "if linkedin_match:\n",
        "    print(f\"LinkedIn ➤ {linkedin_match.group()}\")\n",
        "\n",
        ""
      ],
      "metadata": {
        "colab": {
          "base_uri": "https://localhost:8080/"
        },
        "id": "-Xmwf_ttgTam",
        "outputId": "25044721-746f-49ff-8d48-7b85a2afd435"
      },
      "execution_count": 17,
      "outputs": [
        {
          "output_type": "stream",
          "name": "stdout",
          "text": [
            "✅ Model loaded successfully.\n",
            "\n",
            "📄 Extracted Entities from PDF:\n",
            "John Doe ➤ Name\n",
            "Bachelor of Technology in Computer Science ➤ Degree\n",
            "XYZ University ➤ College Name\n",
            "\n",
            "🔧 Regex Post-processing:\n",
            "Email ➤ john.doe@example.com\n",
            "Phone ➤ +91 9876543210\n",
            "LinkedIn ➤ linkedin.com/in/johndoe\n"
          ]
        }
      ]
    },
    {
      "cell_type": "code",
      "source": [
        "from google.colab import files\n",
        "import re\n",
        "import pdfplumber # Import pdfplumber\n",
        "\n",
        "# Upload the resume\n",
        "uploaded = files.upload()\n",
        "resume_path = list(uploaded.keys())[0]\n",
        "\n",
        "# Read text content from PDF using pdfplumber\n",
        "text = \"\"\n",
        "try:\n",
        "    with pdfplumber.open(resume_path) as pdf:\n",
        "        for page in pdf.pages:\n",
        "            text += page.extract_text() + \"\\n\"\n",
        "except Exception as e:\n",
        "    print(f\"Error reading PDF: {e}\")\n",
        "    # Fallback to reading as text if pdfplumber fails (e.g., if it's actually a text file)\n",
        "    try:\n",
        "        with open(resume_path, \"r\", encoding=\"utf-8\") as f:\n",
        "            text = f.read()\n",
        "    except Exception as e_text:\n",
        "        print(f\"Error reading as text: {e_text}\")\n",
        "        text = None # Set text to None if both fail\n",
        "\n",
        "\n",
        "if text:\n",
        "    # Run the trained NLP model\n",
        "    doc = nlp(text)\n",
        "\n",
        "    # Show extracted entities\n",
        "    print(\"\\n🔍 Extracted Entities:\")\n",
        "    for ent in doc.ents:\n",
        "        print(f\"{ent.label_:25s} ➤ {ent.text}\")\n",
        "\n",
        "    # Regex post-processing for additional info\n",
        "    email_match = re.search(r'[\\w\\.-]+@[\\w\\.-]+', text)\n",
        "    phone_match = re.search(r'\\+91[-\\s]?[0-9]{10}', text)\n",
        "    linkedin_match = re.search(r'linkedin\\.com\\/[^\\s]+', text)\n",
        "\n",
        "    print(\"\\n🔧 Regex Post-processing:\")\n",
        "    if email_match:\n",
        "        print(f\"Email    ➤ {email_match.group()}\")\n",
        "    if phone_match:\n",
        "        print(f\"Phone    ➤ {phone_match.group()}\")\n",
        "    if linkedin_match:\n",
        "        print(f\"LinkedIn ➤ {linkedin_match.group()}\")\n",
        "else:\n",
        "    print(\"Could not extract text from the uploaded file.\")"
      ],
      "metadata": {
        "colab": {
          "base_uri": "https://localhost:8080/",
          "height": 245
        },
        "id": "mA5o0baRgY6i",
        "outputId": "e0bc9672-c072-49fa-b8f4-0e5552112e95"
      },
      "execution_count": 18,
      "outputs": [
        {
          "output_type": "display_data",
          "data": {
            "text/plain": [
              "<IPython.core.display.HTML object>"
            ],
            "text/html": [
              "\n",
              "     <input type=\"file\" id=\"files-6ccc83a4-8a9d-4e88-b036-08131efbc463\" name=\"files[]\" multiple disabled\n",
              "        style=\"border:none\" />\n",
              "     <output id=\"result-6ccc83a4-8a9d-4e88-b036-08131efbc463\">\n",
              "      Upload widget is only available when the cell has been executed in the\n",
              "      current browser session. Please rerun this cell to enable.\n",
              "      </output>\n",
              "      <script>// Copyright 2017 Google LLC\n",
              "//\n",
              "// Licensed under the Apache License, Version 2.0 (the \"License\");\n",
              "// you may not use this file except in compliance with the License.\n",
              "// You may obtain a copy of the License at\n",
              "//\n",
              "//      http://www.apache.org/licenses/LICENSE-2.0\n",
              "//\n",
              "// Unless required by applicable law or agreed to in writing, software\n",
              "// distributed under the License is distributed on an \"AS IS\" BASIS,\n",
              "// WITHOUT WARRANTIES OR CONDITIONS OF ANY KIND, either express or implied.\n",
              "// See the License for the specific language governing permissions and\n",
              "// limitations under the License.\n",
              "\n",
              "/**\n",
              " * @fileoverview Helpers for google.colab Python module.\n",
              " */\n",
              "(function(scope) {\n",
              "function span(text, styleAttributes = {}) {\n",
              "  const element = document.createElement('span');\n",
              "  element.textContent = text;\n",
              "  for (const key of Object.keys(styleAttributes)) {\n",
              "    element.style[key] = styleAttributes[key];\n",
              "  }\n",
              "  return element;\n",
              "}\n",
              "\n",
              "// Max number of bytes which will be uploaded at a time.\n",
              "const MAX_PAYLOAD_SIZE = 100 * 1024;\n",
              "\n",
              "function _uploadFiles(inputId, outputId) {\n",
              "  const steps = uploadFilesStep(inputId, outputId);\n",
              "  const outputElement = document.getElementById(outputId);\n",
              "  // Cache steps on the outputElement to make it available for the next call\n",
              "  // to uploadFilesContinue from Python.\n",
              "  outputElement.steps = steps;\n",
              "\n",
              "  return _uploadFilesContinue(outputId);\n",
              "}\n",
              "\n",
              "// This is roughly an async generator (not supported in the browser yet),\n",
              "// where there are multiple asynchronous steps and the Python side is going\n",
              "// to poll for completion of each step.\n",
              "// This uses a Promise to block the python side on completion of each step,\n",
              "// then passes the result of the previous step as the input to the next step.\n",
              "function _uploadFilesContinue(outputId) {\n",
              "  const outputElement = document.getElementById(outputId);\n",
              "  const steps = outputElement.steps;\n",
              "\n",
              "  const next = steps.next(outputElement.lastPromiseValue);\n",
              "  return Promise.resolve(next.value.promise).then((value) => {\n",
              "    // Cache the last promise value to make it available to the next\n",
              "    // step of the generator.\n",
              "    outputElement.lastPromiseValue = value;\n",
              "    return next.value.response;\n",
              "  });\n",
              "}\n",
              "\n",
              "/**\n",
              " * Generator function which is called between each async step of the upload\n",
              " * process.\n",
              " * @param {string} inputId Element ID of the input file picker element.\n",
              " * @param {string} outputId Element ID of the output display.\n",
              " * @return {!Iterable<!Object>} Iterable of next steps.\n",
              " */\n",
              "function* uploadFilesStep(inputId, outputId) {\n",
              "  const inputElement = document.getElementById(inputId);\n",
              "  inputElement.disabled = false;\n",
              "\n",
              "  const outputElement = document.getElementById(outputId);\n",
              "  outputElement.innerHTML = '';\n",
              "\n",
              "  const pickedPromise = new Promise((resolve) => {\n",
              "    inputElement.addEventListener('change', (e) => {\n",
              "      resolve(e.target.files);\n",
              "    });\n",
              "  });\n",
              "\n",
              "  const cancel = document.createElement('button');\n",
              "  inputElement.parentElement.appendChild(cancel);\n",
              "  cancel.textContent = 'Cancel upload';\n",
              "  const cancelPromise = new Promise((resolve) => {\n",
              "    cancel.onclick = () => {\n",
              "      resolve(null);\n",
              "    };\n",
              "  });\n",
              "\n",
              "  // Wait for the user to pick the files.\n",
              "  const files = yield {\n",
              "    promise: Promise.race([pickedPromise, cancelPromise]),\n",
              "    response: {\n",
              "      action: 'starting',\n",
              "    }\n",
              "  };\n",
              "\n",
              "  cancel.remove();\n",
              "\n",
              "  // Disable the input element since further picks are not allowed.\n",
              "  inputElement.disabled = true;\n",
              "\n",
              "  if (!files) {\n",
              "    return {\n",
              "      response: {\n",
              "        action: 'complete',\n",
              "      }\n",
              "    };\n",
              "  }\n",
              "\n",
              "  for (const file of files) {\n",
              "    const li = document.createElement('li');\n",
              "    li.append(span(file.name, {fontWeight: 'bold'}));\n",
              "    li.append(span(\n",
              "        `(${file.type || 'n/a'}) - ${file.size} bytes, ` +\n",
              "        `last modified: ${\n",
              "            file.lastModifiedDate ? file.lastModifiedDate.toLocaleDateString() :\n",
              "                                    'n/a'} - `));\n",
              "    const percent = span('0% done');\n",
              "    li.appendChild(percent);\n",
              "\n",
              "    outputElement.appendChild(li);\n",
              "\n",
              "    const fileDataPromise = new Promise((resolve) => {\n",
              "      const reader = new FileReader();\n",
              "      reader.onload = (e) => {\n",
              "        resolve(e.target.result);\n",
              "      };\n",
              "      reader.readAsArrayBuffer(file);\n",
              "    });\n",
              "    // Wait for the data to be ready.\n",
              "    let fileData = yield {\n",
              "      promise: fileDataPromise,\n",
              "      response: {\n",
              "        action: 'continue',\n",
              "      }\n",
              "    };\n",
              "\n",
              "    // Use a chunked sending to avoid message size limits. See b/62115660.\n",
              "    let position = 0;\n",
              "    do {\n",
              "      const length = Math.min(fileData.byteLength - position, MAX_PAYLOAD_SIZE);\n",
              "      const chunk = new Uint8Array(fileData, position, length);\n",
              "      position += length;\n",
              "\n",
              "      const base64 = btoa(String.fromCharCode.apply(null, chunk));\n",
              "      yield {\n",
              "        response: {\n",
              "          action: 'append',\n",
              "          file: file.name,\n",
              "          data: base64,\n",
              "        },\n",
              "      };\n",
              "\n",
              "      let percentDone = fileData.byteLength === 0 ?\n",
              "          100 :\n",
              "          Math.round((position / fileData.byteLength) * 100);\n",
              "      percent.textContent = `${percentDone}% done`;\n",
              "\n",
              "    } while (position < fileData.byteLength);\n",
              "  }\n",
              "\n",
              "  // All done.\n",
              "  yield {\n",
              "    response: {\n",
              "      action: 'complete',\n",
              "    }\n",
              "  };\n",
              "}\n",
              "\n",
              "scope.google = scope.google || {};\n",
              "scope.google.colab = scope.google.colab || {};\n",
              "scope.google.colab._files = {\n",
              "  _uploadFiles,\n",
              "  _uploadFilesContinue,\n",
              "};\n",
              "})(self);\n",
              "</script> "
            ]
          },
          "metadata": {}
        },
        {
          "output_type": "stream",
          "name": "stdout",
          "text": [
            "Saving X4c50D3WQk.pdf to X4c50D3WQk.pdf\n",
            "\n",
            "🔍 Extracted Entities:\n",
            "Name                      ➤ John Doe\n",
            "Degree                    ➤ Bachelor of Technology in Computer Science\n",
            "College Name              ➤ XYZ University\n",
            "\n",
            "🔧 Regex Post-processing:\n",
            "Email    ➤ john.doe@example.com\n",
            "Phone    ➤ +91 9876543210\n",
            "LinkedIn ➤ linkedin.com/in/johndoe\n"
          ]
        }
      ]
    },
    {
      "cell_type": "code",
      "source": [],
      "metadata": {
        "id": "rsARVWt-gi3D"
      },
      "execution_count": null,
      "outputs": []
    }
  ]
}